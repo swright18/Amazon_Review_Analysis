{
  "nbformat": 4,
  "nbformat_minor": 0,
  "metadata": {
    "colab": {
      "name": "Vine_Review_Analysis.ipynb",
      "provenance": [],
      "collapsed_sections": []
    },
    "kernelspec": {
      "display_name": "PythonData",
      "language": "python",
      "name": "pythondata"
    },
    "language_info": {
      "codemirror_mode": {
        "name": "ipython",
        "version": 3
      },
      "file_extension": ".py",
      "mimetype": "text/x-python",
      "name": "python",
      "nbconvert_exporter": "python",
      "pygments_lexer": "ipython3",
      "version": "3.6.10"
    },
    "nteract": {
      "version": "0.12.3"
    }
  },
  "cells": [
    {
      "cell_type": "code",
      "metadata": {
        "id": "br9rr7GWwyp9"
      },
      "source": [
        "# Import your dependencies.\n",
        "import pandas as pd"
      ],
      "execution_count": null,
      "outputs": []
    },
    {
      "cell_type": "code",
      "metadata": {
        "id": "lEYtaBt8v4Yc"
      },
      "source": [
        "# Read in the vine table csv file. \n",
        "vine_df = pd.read_csv(\"vine_table.csv\")\n",
        "vine_df"
      ],
      "execution_count": null,
      "outputs": []
    },
    {
      "cell_type": "code",
      "metadata": {
        "id": "q085asfov4Ye"
      },
      "source": [
        "# Create a new DataFrame that retrieves all the rows where the total votes is equal to or greater than 20.\n",
        "total_votes_over_20 = vine_df.loc[vine_df[\"total_votes\"] >= 20]\n",
        "total_votes_over_20"
      ],
      "execution_count": null,
      "outputs": []
    },
    {
      "cell_type": "code",
      "metadata": {
        "id": "CRC9wf2xv4Ye"
      },
      "source": [
        "# create a new DataFrame or table to retrieve all the rows where the number of helpful_votes divided by total_votes is equal to or greater than 50%\n",
        "total_votes_over_50_percent = total_votes_over_20.loc[(df1[\"helpful_votes\"]/total_votes_over_20[\"total_votes\"] >= 0.5)]\n",
        "total_votes_over_50_percent"
      ],
      "execution_count": null,
      "outputs": []
    },
    {
      "cell_type": "code",
      "metadata": {
        "id": "NegeG3Yvv4Yf"
      },
      "source": [
        "# create a new DataFrame or table that retrieves all the rows where a review was written as part of the Vine program (paid), vine == 'Y'.\n",
        "paid_df = total_votes_over_50_percent.loc[total_votes_over_50_percent[\"vine\"]==\"Y\"]\n",
        "paid_df"
      ],
      "execution_count": null,
      "outputs": []
    },
    {
      "cell_type": "code",
      "metadata": {
        "id": "e8EseNvmv4Yf"
      },
      "source": [
        "# create a new DataFrame or table that retrieves all the rows where a review was written as part of the Vine program (unpaid), vine == 'N'.\n",
        "unpaid_df = total_votes_over_50_percent.loc[total_votes_over_50_percent[\"vine\"]==\"N\"]\n",
        "unpaid_df"
      ],
      "execution_count": null,
      "outputs": []
    },
    {
      "cell_type": "code",
      "metadata": {
        "id": "GSlv6TVPwyqy"
      },
      "source": [
        "# Determine the total number of reviews, the number of 5-star reviews, and the percentage of 5-star reviews for the two types of review (paid vs unpaid).\n",
        "paid_five_star_number = paid_df.loc[(paid_df['star_rating']== 5)][\"star_rating\"].count()\n",
        "\n",
        "paid_number = paid_df[\"star_rating\"].count()\n",
        "\n",
        "percentage_five_star_vine = paid_five_star_number / paid_number * 100"
      ],
      "execution_count": null,
      "outputs": []
    },
    {
      "cell_type": "code",
      "metadata": {
        "id": "9NRJ0PH5wyrD"
      },
      "source": [
        "# Determine the total number of reviews, the number of 5-star reviews, and the percentage of 5-star reviews for the two types of review (paid vs unpaid).\n",
        "unpaid_five_star_number = unpaid_df.loc[(unpaid_df['star_rating']== 5)][\"star_rating\"].count()\n",
        "\n",
        "unpaid_number = unpaid_df[\"star_rating\"].count()\n",
        "\n",
        "percentage_five_star_non_vine = unpaid_five_star_number / unpaid_number * 100\n"
      ],
      "execution_count": null,
      "outputs": []
    },
    {
      "cell_type": "code",
      "metadata": {
        "id": "kVxUYo4Vx9co"
      },
      "source": [
        ""
      ],
      "execution_count": null,
      "outputs": []
    }
  ]
}